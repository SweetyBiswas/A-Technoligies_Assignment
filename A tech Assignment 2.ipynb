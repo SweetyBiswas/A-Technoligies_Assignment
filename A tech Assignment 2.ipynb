{
 "cells": [
  {
   "cell_type": "markdown",
   "id": "5756a9c2",
   "metadata": {},
   "source": [
    "## Assignment"
   ]
  },
  {
   "cell_type": "markdown",
   "id": "d6980c4e",
   "metadata": {},
   "source": [
    "### 1. Reverse a list of strings without using builtin functions"
   ]
  },
  {
   "cell_type": "code",
   "execution_count": 3,
   "id": "57bad6bd",
   "metadata": {},
   "outputs": [],
   "source": [
    "li=['sweety','biswas','hello','hey','bye','manti','bittu']"
   ]
  },
  {
   "cell_type": "code",
   "execution_count": 4,
   "id": "592b504f",
   "metadata": {},
   "outputs": [
    {
     "name": "stdout",
     "output_type": "stream",
     "text": [
      "['sweety', 'biswas', 'hello', 'hey', 'bye', 'manti', 'bittu']\n"
     ]
    }
   ],
   "source": [
    "print(li)"
   ]
  },
  {
   "cell_type": "code",
   "execution_count": 16,
   "id": "4bcf670e",
   "metadata": {},
   "outputs": [
    {
     "data": {
      "text/plain": [
       "['bittu', 'manti', 'bye', 'hey', 'hello', 'biswas', 'sweety']"
      ]
     },
     "execution_count": 16,
     "metadata": {},
     "output_type": "execute_result"
    }
   ],
   "source": [
    "li[::-1]"
   ]
  },
  {
   "cell_type": "markdown",
   "id": "0cee448b",
   "metadata": {},
   "source": [
    "### 2. Sort a list of strings"
   ]
  },
  {
   "cell_type": "code",
   "execution_count": 2,
   "id": "b4ae3310",
   "metadata": {},
   "outputs": [],
   "source": [
    "list=['sweety','biswas','hello','aa','bye','manti','bittu']"
   ]
  },
  {
   "cell_type": "code",
   "execution_count": 22,
   "id": "9467496b",
   "metadata": {},
   "outputs": [],
   "source": [
    "#list.sort()"
   ]
  },
  {
   "cell_type": "code",
   "execution_count": 32,
   "id": "062fa99a",
   "metadata": {},
   "outputs": [
    {
     "data": {
      "text/plain": [
       "['sweety', 'biswas', 'hello', 'aa', 'bye', 'manti', 'bittu']"
      ]
     },
     "execution_count": 32,
     "metadata": {},
     "output_type": "execute_result"
    }
   ],
   "source": [
    "list"
   ]
  },
  {
   "cell_type": "code",
   "execution_count": 2,
   "id": "2295f24f",
   "metadata": {},
   "outputs": [
    {
     "ename": "IndexError",
     "evalue": "list index out of range",
     "output_type": "error",
     "traceback": [
      "\u001b[1;31m---------------------------------------------------------------------------\u001b[0m",
      "\u001b[1;31mIndexError\u001b[0m                                Traceback (most recent call last)",
      "\u001b[1;32m<ipython-input-2-2610fbab557b>\u001b[0m in \u001b[0;36m<module>\u001b[1;34m\u001b[0m\n\u001b[0;32m      6\u001b[0m \u001b[1;32mfor\u001b[0m \u001b[0mi\u001b[0m \u001b[1;32min\u001b[0m \u001b[0mrange\u001b[0m\u001b[1;33m(\u001b[0m\u001b[0mlen\u001b[0m\u001b[1;33m(\u001b[0m\u001b[0mlis\u001b[0m\u001b[1;33m)\u001b[0m\u001b[1;33m)\u001b[0m\u001b[1;33m:\u001b[0m\u001b[1;33m\u001b[0m\u001b[1;33m\u001b[0m\u001b[0m\n\u001b[0;32m      7\u001b[0m     \u001b[0mmin\u001b[0m\u001b[1;33m=\u001b[0m\u001b[0mlis\u001b[0m\u001b[1;33m[\u001b[0m\u001b[1;36m0\u001b[0m\u001b[1;33m]\u001b[0m\u001b[1;33m\u001b[0m\u001b[1;33m\u001b[0m\u001b[0m\n\u001b[1;32m----> 8\u001b[1;33m     \u001b[1;32mif\u001b[0m \u001b[0mlis\u001b[0m\u001b[1;33m[\u001b[0m\u001b[0mi\u001b[0m\u001b[1;33m]\u001b[0m\u001b[1;33m<\u001b[0m\u001b[0mmin\u001b[0m\u001b[1;33m:\u001b[0m\u001b[1;33m\u001b[0m\u001b[1;33m\u001b[0m\u001b[0m\n\u001b[0m\u001b[0;32m      9\u001b[0m         \u001b[0mnew_lis\u001b[0m\u001b[1;33m.\u001b[0m\u001b[0mappend\u001b[0m\u001b[1;33m(\u001b[0m\u001b[0mmin\u001b[0m\u001b[1;33m)\u001b[0m\u001b[1;33m\u001b[0m\u001b[1;33m\u001b[0m\u001b[0m\n\u001b[0;32m     10\u001b[0m         \u001b[0mlis\u001b[0m\u001b[1;33m.\u001b[0m\u001b[0mremove\u001b[0m\u001b[1;33m(\u001b[0m\u001b[0mmin\u001b[0m\u001b[1;33m)\u001b[0m\u001b[1;33m\u001b[0m\u001b[1;33m\u001b[0m\u001b[0m\n",
      "\u001b[1;31mIndexError\u001b[0m: list index out of range"
     ]
    }
   ],
   "source": [
    "lis=['sweety','biswas','hello','aa','bye','manti','bittu']\n",
    "\n",
    "\n",
    "new_lis=[]\n",
    "\n",
    "for i in range(len(lis)):\n",
    "    min=lis[0]\n",
    "    if lis[i]<min:\n",
    "        new_lis.append(min)\n",
    "        lis.remove(min)\n",
    "        \n",
    "print(new_lis)"
   ]
  },
  {
   "cell_type": "code",
   "execution_count": 3,
   "id": "75e40be3",
   "metadata": {},
   "outputs": [
    {
     "name": "stdout",
     "output_type": "stream",
     "text": [
      "['aa', 'biswas', 'bittu', 'bye', 'hello', 'manti', 'sweety']\n"
     ]
    }
   ],
   "source": [
    "list = ['sweety','biswas','hello','aa','bye','manti','bittu']\n",
    "new_list = []\n",
    "\n",
    "while list:\n",
    "    min = list[0]  \n",
    "    for x in list: \n",
    "        if x < min:\n",
    "            min = x\n",
    "    new_list.append(min)\n",
    "    list.remove(min)    \n",
    "\n",
    "print(new_list)"
   ]
  },
  {
   "cell_type": "markdown",
   "id": "f1e97c67",
   "metadata": {},
   "source": [
    "### 3. Think for any exception scenario and prepare one custom exception\n",
    "### (which is not already covered by any built in exception class) for the same ... \n",
    "### use raise first and then try and catch to handle the same"
   ]
  },
  {
   "cell_type": "code",
   "execution_count": 20,
   "id": "389c5d88",
   "metadata": {},
   "outputs": [
    {
     "name": "stdout",
     "output_type": "stream",
     "text": [
      "Enter the element you want to Insert :  30\n",
      "{100, 200, 10, 80, 20, 500, 60, 30}\n",
      "New element into a tuple inserted successfully ! Alert : Inserted Duplicate element\n"
     ]
    }
   ],
   "source": [
    "class customError(Exception):\n",
    "\n",
    "    def __init__(self, msg):\n",
    "        self.msg = msg\n",
    " \n",
    "    def __show__(self):\n",
    "        return self.msg\n",
    "\n",
    "\n",
    "\n",
    "\n",
    "try:\n",
    "    s={10,20,30,100,200,80,60,500}\n",
    "    x=int(input('Enter the element you want to Insert :  '))\n",
    "    s.add(x)\n",
    "    for i in s:\n",
    "        if i==x:\n",
    "            raise(customError('Alert : Inserted Duplicate element'))\n",
    "    \n",
    "    \n",
    "        \n",
    "except customError as error:\n",
    "        print(s)\n",
    "        print('New element into a tuple inserted successfully !',error.msg)\n",
    "        \n",
    "        \n",
    "    "
   ]
  },
  {
   "cell_type": "code",
   "execution_count": null,
   "id": "8a021b62",
   "metadata": {},
   "outputs": [],
   "source": []
  }
 ],
 "metadata": {
  "kernelspec": {
   "display_name": "Python 3",
   "language": "python",
   "name": "python3"
  },
  "language_info": {
   "codemirror_mode": {
    "name": "ipython",
    "version": 3
   },
   "file_extension": ".py",
   "mimetype": "text/x-python",
   "name": "python",
   "nbconvert_exporter": "python",
   "pygments_lexer": "ipython3",
   "version": "3.8.8"
  }
 },
 "nbformat": 4,
 "nbformat_minor": 5
}
