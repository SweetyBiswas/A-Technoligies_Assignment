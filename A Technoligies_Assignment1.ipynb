{
 "cells": [
  {
   "cell_type": "markdown",
   "id": "73e1f593",
   "metadata": {},
   "source": [
    "## Menu Based Calculator "
   ]
  },
  {
   "cell_type": "code",
   "execution_count": 12,
   "id": "9e41f510",
   "metadata": {},
   "outputs": [
    {
     "name": "stdout",
     "output_type": "stream",
     "text": [
      "enter 1st no : 5\n",
      "enter 2nd no : 3\n",
      "\n",
      "\n",
      "addition of 2 no :  8 \n",
      "\n",
      "Subtraction of 2 no :  2 \n",
      "\n",
      "Multiplication of 2 no :  15 \n",
      "\n",
      "Division of 2 no :  1.6666666666666667 \n",
      "\n",
      "floor Division Of 2 No is :  1 \n",
      "\n",
      "Remender is :  2 \n",
      "\n",
      "Exponent Is :  125 \n",
      "\n",
      "Given Numbers are Different \n",
      "\n",
      "First No is Bigger \n",
      "\n",
      "Result Is :  [8, 2, 15, 1.6666666666666667, 1, 2, 125, 'Given Numbers are Different', 'First No is Bigger']\n"
     ]
    }
   ],
   "source": [
    "li=[] \n",
    "\n",
    "def add(x,y):\n",
    "    a=x+y\n",
    "    print(\"addition of 2 no : \",a,'\\n')\n",
    "    li.append(a)\n",
    "def sub(x,y):\n",
    "    b=x-y\n",
    "    print(\"Subtraction of 2 no : \",b,'\\n')\n",
    "    li.append(b)\n",
    "def mul(x,y):\n",
    "    c=x*y\n",
    "    print(\"Multiplication of 2 no : \",c,'\\n')\n",
    "    li.append(c)\n",
    "def div(x,y):\n",
    "    d=x/y\n",
    "    print(\"Division of 2 no : \",d,'\\n')\n",
    "    li.append(d)\n",
    "    \n",
    "def fd(x,y):\n",
    "    e=x//y\n",
    "    print(\"floor Division Of 2 No is : \",e,'\\n')\n",
    "    li.append(e)\n",
    "    \n",
    "def mod(x,y):\n",
    "    f=x%y\n",
    "    print(\"Remender is : \",f,'\\n')\n",
    "    li.append(f)\n",
    "    \n",
    "def exp(x,y):\n",
    "    g=x**y\n",
    "    print(\"Exponent Is : \",g,'\\n')\n",
    "    li.append(g)\n",
    "    \n",
    "def equal(x,y):\n",
    "    if x==y:\n",
    "        print('Given Numbers are Same','\\n')\n",
    "        h='Two Nos are Same'\n",
    "        li.append(h)\n",
    "    else:\n",
    "        print('Given Numbers are Different','\\n')\n",
    "        i=\"Given Numbers are Different\"\n",
    "        li.append(i)\n",
    "def com(x,y):\n",
    "    if x>y:\n",
    "        print('First No is Bigger','\\n')\n",
    "        j='First No is Bigger'\n",
    "        li.append(j)\n",
    "    else:\n",
    "        print('Second No is Bigger','\\n')\n",
    "        k='Second No is Bigger'\n",
    "        li.append(k)\n",
    "   \n",
    "    \n",
    "fn=int(input(\"enter 1st no : \"))\n",
    "sn=int(input(\"enter 2nd no : \"))\n",
    "print('\\n')\n",
    "\n",
    "add(fn,sn)\n",
    "sub(fn,sn)\n",
    "mul(fn,sn)\n",
    "div(fn,sn)\n",
    "fd(fn,sn)\n",
    "mod(fn,sn)\n",
    "exp(fn,sn)\n",
    "equal(fn,sn)\n",
    "com(fn,sn)\n",
    "\n",
    "\n",
    "\n",
    "print('Result Is : ',li)\n"
   ]
  },
  {
   "cell_type": "code",
   "execution_count": null,
   "id": "6faf102a",
   "metadata": {},
   "outputs": [],
   "source": []
  },
  {
   "cell_type": "code",
   "execution_count": null,
   "id": "e60033b1",
   "metadata": {},
   "outputs": [],
   "source": []
  },
  {
   "cell_type": "code",
   "execution_count": null,
   "id": "b6d88903",
   "metadata": {},
   "outputs": [],
   "source": []
  }
 ],
 "metadata": {
  "kernelspec": {
   "display_name": "Python 3",
   "language": "python",
   "name": "python3"
  },
  "language_info": {
   "codemirror_mode": {
    "name": "ipython",
    "version": 3
   },
   "file_extension": ".py",
   "mimetype": "text/x-python",
   "name": "python",
   "nbconvert_exporter": "python",
   "pygments_lexer": "ipython3",
   "version": "3.8.8"
  }
 },
 "nbformat": 4,
 "nbformat_minor": 5
}
